{
 "cells": [
  {
   "cell_type": "markdown",
   "id": "3c34ad4a",
   "metadata": {},
   "source": [
    "## LGD Model\n",
    "- loss given default model (beta)\n",
    "- dependent variable : (recovery) 채무 불이행 후, 대출금이 얼마나 회수되었는 가"
   ]
  },
  {
   "cell_type": "code",
   "execution_count": null,
   "id": "0626e1a7",
   "metadata": {},
   "outputs": [],
   "source": []
  }
 ],
 "metadata": {
  "kernelspec": {
   "display_name": "Python 3",
   "language": "python",
   "name": "python3"
  },
  "language_info": {
   "codemirror_mode": {
    "name": "ipython",
    "version": 3
   },
   "file_extension": ".py",
   "mimetype": "text/x-python",
   "name": "python",
   "nbconvert_exporter": "python",
   "pygments_lexer": "ipython3",
   "version": "3.8.8"
  }
 },
 "nbformat": 4,
 "nbformat_minor": 5
}
