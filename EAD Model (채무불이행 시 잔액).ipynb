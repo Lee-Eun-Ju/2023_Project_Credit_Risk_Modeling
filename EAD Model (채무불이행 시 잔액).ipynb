{
 "cells": [
  {
   "cell_type": "markdown",
   "id": "e63fcdce",
   "metadata": {},
   "source": [
    "## EAD Model\n",
    "- exposure at default model (beta)\n",
    "- dependent variable : (total recovered principal column) 과거 리스크에 노출된 금액에 비교하여 얼마나 채무 불이행되었는가"
   ]
  },
  {
   "cell_type": "code",
   "execution_count": null,
   "id": "213e7abf",
   "metadata": {},
   "outputs": [],
   "source": []
  }
 ],
 "metadata": {
  "kernelspec": {
   "display_name": "Python 3",
   "language": "python",
   "name": "python3"
  },
  "language_info": {
   "codemirror_mode": {
    "name": "ipython",
    "version": 3
   },
   "file_extension": ".py",
   "mimetype": "text/x-python",
   "name": "python",
   "nbconvert_exporter": "python",
   "pygments_lexer": "ipython3",
   "version": "3.8.8"
  }
 },
 "nbformat": 4,
 "nbformat_minor": 5
}
