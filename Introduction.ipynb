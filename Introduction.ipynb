{
 "cells": [
  {
   "attachments": {},
   "cell_type": "markdown",
   "metadata": {},
   "source": [
    "## Introduction"
   ]
  },
  {
   "attachments": {},
   "cell_type": "markdown",
   "metadata": {},
   "source": [
    "- What is credit risk?\n",
    "- Why it is important?"
   ]
  },
  {
   "attachments": {},
   "cell_type": "markdown",
   "metadata": {},
   "source": [
    "### 1) Credit Risk\n",
    "\n",
    "#### Creditor vs Debtor\n",
    "- Creditor(채권자) : 미래에 상환할 것이라는 신뢰하에, 채무자에게 신용(상품과 서비스)을 제공\n",
    "- Debtor(채무자) : 상품과 서비스를 이용하며, 이자를 지불\n",
    "- EX) 신용카드, 주택 담보 대출, 자산 금융 등\n",
    "\n",
    "#### Credit Risk\n",
    "- Credit Risk : 채무자가 채권자에게 대출금을 상환하지 않을 가능성  \n",
    "  (1) 채무 원금과 이자를 지급받지 못해 발생하는 손실 발생   \n",
    "  (2) 회수 비용 (미상환 부채를 회수하기 위한 비용) 발생\n",
    "- 채무자의 신용 평가, 즉 신용 위험을 정확히 측정하는 것이 중요\n",
    "- "
   ]
  },
  {
   "cell_type": "code",
   "execution_count": null,
   "metadata": {},
   "outputs": [],
   "source": []
  }
 ],
 "metadata": {
  "kernelspec": {
   "display_name": "Python 3",
   "language": "python",
   "name": "python3"
  },
  "language_info": {
   "name": "python",
   "version": "3.10.0"
  },
  "orig_nbformat": 4,
  "vscode": {
   "interpreter": {
    "hash": "12267be072c5c9ec35e8eb4b5c31284dc223e41abe9a640bca78ed7ada319265"
   }
  }
 },
 "nbformat": 4,
 "nbformat_minor": 2
}
