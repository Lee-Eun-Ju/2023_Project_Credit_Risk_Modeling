{
 "cells": [
  {
   "cell_type": "markdown",
   "id": "c07b0a98",
   "metadata": {},
   "source": [
    "## PD Model\n",
    "- probability of default model (logistic)\n",
    "- dependent variable : (loan_status) 채무 이행 여부"
   ]
  },
  {
   "cell_type": "code",
   "execution_count": null,
   "id": "574f6cbd",
   "metadata": {},
   "outputs": [],
   "source": []
  }
 ],
 "metadata": {
  "kernelspec": {
   "display_name": "Python 3",
   "language": "python",
   "name": "python3"
  },
  "language_info": {
   "codemirror_mode": {
    "name": "ipython",
    "version": 3
   },
   "file_extension": ".py",
   "mimetype": "text/x-python",
   "name": "python",
   "nbconvert_exporter": "python",
   "pygments_lexer": "ipython3",
   "version": "3.8.8"
  }
 },
 "nbformat": 4,
 "nbformat_minor": 5
}
